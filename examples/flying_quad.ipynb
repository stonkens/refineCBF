{
 "cells": [
  {
   "cell_type": "code",
   "execution_count": 6,
   "metadata": {},
   "outputs": [],
   "source": [
    "%load_ext autoreload\n",
    "%autoreload 2"
   ]
  },
  {
   "cell_type": "code",
   "execution_count": 7,
   "metadata": {},
   "outputs": [],
   "source": [
    "from cbf_opt import dynamics, cbf, utils, asif\n",
    "from refine_cbfs import cbf as cbf_hjr, dynamics as dynamics_hjr\n",
    "import hj_reachability as hj\n",
    "import jax.numpy as jnp\n",
    "import numpy as np"
   ]
  },
  {
   "cell_type": "code",
   "execution_count": 10,
   "metadata": {},
   "outputs": [],
   "source": [
    "import seaborn as sns\n",
    "import pickle as pkl\n",
    "import numpy as np\n",
    "import matplotlib.pyplot as plt"
   ]
  },
  {
   "cell_type": "code",
   "execution_count": 11,
   "metadata": {},
   "outputs": [],
   "source": [
    "import matplotlib\n",
    "matplotlib.rcParams.update({\n",
    "    \"pgf.texsystem\": \"pdflatex\",\n",
    "    'font.family': 'serif',\n",
    "    'font.size': '32',\n",
    "    'text.usetex': True,\n",
    "    'pgf.rcfonts': False,\n",
    "    'lines.linewidth': 6.,\n",
    "})\n",
    "import matplotlib.animation as anim\n",
    "import seaborn as sns"
   ]
  },
  {
   "cell_type": "code",
   "execution_count": 13,
   "metadata": {},
   "outputs": [],
   "source": [
    "class QuadVerticalDynamics(dynamics.ControlAffineDynamics):\n",
    "    def __init__(self, params, **kwargs):\n",
    "        params['n_dims'] = 4\n",
    "        params['control_dims'] = 2\n",
    "\n",
    "        self.Cd_v = params[\"Cd_v\"]\n",
    "        self.g = params[\"g\"]\n",
    "        self.Cd_phi = params[\"Cd_phi\"]\n",
    "        self.mass = params[\"mass\"]\n",
    "        self.length = params[\"length\"]\n",
    "        self.Iyy = params[\"Iyy\"]\n",
    "        super().__init__(params, **kwargs)\n",
    "\n",
    "    \n",
    "    def open_loop_dynamics(self, state, time=0.0):\n",
    "        return jnp.array([\n",
    "            state[1], \n",
    "            -state[1] * self.Cd_v / self.mass - self.g, \n",
    "            state[3], \n",
    "            -state[3] * self.Cd_phi / self.Iyy\n",
    "            ])\n",
    "    \n",
    "    def control_matrix(self, state, time=0.0):\n",
    "        return jnp.array([\n",
    "            [0, 0], \n",
    "            [jnp.cos(state[2]) / self.mass, jnp.cos(state[2]) / self.mass], \n",
    "            [0, 0], \n",
    "            [-self.length / self.Iyy, self.length / self.Iyy]\n",
    "            ])\n",
    "\n",
    "    def state_jacobian(self, state, control, time=0.):\n",
    "        return np.array([\n",
    "            [0., 1., 0., 0.],\n",
    "            [0., -self.Cd_v / self.mass, (-control[0] + control[1]) * np.sin(state[2]) / self.mass, 0.],\n",
    "            [0., 0., 0., 1.],\n",
    "            [0., 0., 0., -self.Cd_phi / self.Iyy]\n",
    "        ])\n",
    "    "
   ]
  },
  {
   "cell_type": "code",
   "execution_count": 14,
   "metadata": {},
   "outputs": [
    {
     "name": "stderr",
     "output_type": "stream",
     "text": [
      "WARNING:absl:No GPU/TPU found, falling back to CPU. (Set TF_CPP_MIN_LOG_LEVEL=0 and rerun for more info.)\n"
     ]
    }
   ],
   "source": [
    "params = dict()\n",
    "params[\"Cd_v\"] = 0.25\n",
    "params[\"g\"] = 9.81\n",
    "params[\"Cd_phi\"] = 0.02255\n",
    "params[\"mass\"] = 2.5\n",
    "params[\"length\"] = 1.0\n",
    "params[\"Iyy\"] = 1.0\n",
    "params[\"dt\"] = 0.01\n",
    "\n",
    "dyn = QuadVerticalDynamics(params)"
   ]
  },
  {
   "cell_type": "code",
   "execution_count": 15,
   "metadata": {},
   "outputs": [],
   "source": [
    "umax = 0.75 * params[\"mass\"] * params[\"g\"] * jnp.ones(2)\n",
    "umin = jnp.zeros_like(umax)"
   ]
  },
  {
   "cell_type": "code",
   "execution_count": 16,
   "metadata": {},
   "outputs": [],
   "source": [
    "dyn_hjr = dynamics_hjr.HJControlAffineDynamics(dyn, control_space=hj.sets.Box(jnp.array(umin), jnp.array(umax)))\n",
    "\n",
    "state_domain = hj.sets.Box(lo=jnp.array([0., -8., -jnp.pi, -10.]), hi=jnp.array([10., 8., jnp.pi, 10.]))\n",
    "grid_resolution = (31, 25, 41, 25)  # can/should be increased if running on GPU, or if extra patient"
   ]
  },
  {
   "cell_type": "code",
   "execution_count": 17,
   "metadata": {},
   "outputs": [],
   "source": [
    "grid = hj.Grid.from_lattice_parameters_and_boundary_conditions(state_domain, grid_resolution, periodic_dims=2)\n",
    "\n",
    "extended_state_domain = hj.sets.Box(lo=jnp.array([-20, -8, 0., -8., -jnp.pi, -10.]), hi=jnp.array([20, 8, 10., 8., jnp.pi, 10.]))\n",
    "extended_grid_resolution = (5, 5, 31, 25, 41, 25) \n",
    "extended_grid = hj.Grid.from_lattice_parameters_and_boundary_conditions(extended_state_domain, extended_grid_resolution, periodic_dims=4)"
   ]
  },
  {
   "cell_type": "code",
   "execution_count": 19,
   "metadata": {},
   "outputs": [],
   "source": [
    "def safe_set(state):\n",
    "    \"\"\"A real-valud function s.t. the zero-superlevel set is the safe set\n",
    "\n",
    "    Args:\n",
    "        state : An unbatched (!) state vector, an array of shape `(4,)` containing `[y, v_y, phi, omega]`.\n",
    "\n",
    "    Returns:\n",
    "        A scalar, positive iff the state is in the safe set\n",
    "    \"\"\"\n",
    "    return jnp.min(jnp.array([state[0] - 1, 9 - state[0], state[1] + 6, 6 - state[1], state[3] + 8, 8 - state[3]]))\n"
   ]
  },
  {
   "cell_type": "code",
   "execution_count": 20,
   "metadata": {},
   "outputs": [],
   "source": [
    "safe_values = hj.utils.multivmap(safe_set, jnp.arange(4))(grid.states)"
   ]
  },
  {
   "cell_type": "code",
   "execution_count": 136,
   "metadata": {},
   "outputs": [],
   "source": [
    "traj_data = pkl.load(open(\"quad_2d/traj_data_conservative_cbf.pkl\", \"rb\"))\n",
    "nominal = traj_data['nominal']\n",
    "cbf_traj = traj_data['cbf']\n",
    "cbvf_traj = traj_data['cbvf']\n",
    "states = nominal['state']\n",
    "control = nominal['control']\n",
    "ts = nominal['times']\n",
    "states_filt = cbf_traj['state']\n",
    "control_filt = cbf_traj['control']\n",
    "vf_filt = cbf_traj['vf']\n",
    "states_filt_ws = cbvf_traj['state']\n",
    "control_filt_ws = cbvf_traj['control']\n",
    "vf_filt_ws = cbvf_traj['vf']\n",
    "x_goal = traj_data['x_goal']\n",
    "x0 = traj_data['x_start']"
   ]
  },
  {
   "cell_type": "code",
   "execution_count": 113,
   "metadata": {},
   "outputs": [],
   "source": [
    "from refine_cbfs.utils.visualize_vf import animate_planar_quad, animate_multi_planar_quad"
   ]
  },
  {
   "cell_type": "code",
   "execution_count": 138,
   "metadata": {},
   "outputs": [
    {
     "data": {
      "image/png": "[encoded data removed]",
      "text/plain": [
       "<Figure size 1152x648 with 1 Axes>"
      ]
     },
     "metadata": {
      "needs_background": "light"
     },
     "output_type": "display_data"
    }
   ],
   "source": [
    "fig, ax = plt.subplots(1, 1, figsize=(16, 9))\n",
    "alt_colors = sns.color_palette(\"pastel\", 9).as_hex()\n",
    "pal = sns.color_palette(\"colorblind\")\n",
    "new_vals_broadcast = np.repeat(np.repeat(safe_values[np.newaxis, ...], 5, axis=0)[np.newaxis, ...], 5, axis=0)\n",
    "cs = ax.contourf(extended_grid.coordinate_vectors[0], extended_grid.coordinate_vectors[2], new_vals_broadcast[:, 2, :, 13, 20, 13].T, levels=[-100, 0], colors=alt_colors[3], alpha=.8)\n",
    "ax.set_xlim([-2, 10])\n",
    "ax.set_xlabel('$x$ (Horizontal position)')\n",
    "ax.set_ylabel('$y$ (Vertical position)')\n",
    "ax.set_ylim([0, 10])\n",
    "\n",
    "l1 = ax.plot(x0[0], x0[2], 'x', markersize=20, mew=5, color=pal[7])\n",
    "# ax.plot(np.array(states_filt)[-1, 0], np.array(states_filt)[-1, 2], 'x', markersize=20, mew=5, color=c2[0].get_color())\n",
    "# ax.plot(np.array(states_filt_ws)[-1, 0], np.array(states_filt_ws)[-1, 2], 'x', markersize=20, mew=5, color=c3[0].get_color())\n",
    "l2 = ax.plot(x_goal[0], x_goal[2], 'o', markersize=20, color=pal[3])\n",
    "miscs = [l1, l2]\n",
    "proxy = []\n",
    "proxy += [plt.Rectangle((0,0),1,1, fc=alt_colors[3], ec=alt_colors[3], alpha=0.8) for pc in cs.collections]\n",
    "leg = ax.legend([misc[0] for misc in miscs], ['Start', 'Goal'], ncol=2, bbox_to_anchor=[.5, 0.35], loc='center', frameon=True, handletextpad=0.6)\n",
    "leg2 = ax.legend(proxy, ['Obstacle'], bbox_to_anchor=[0.5, .2], loc='center', frameon=True)\n",
    "ax.add_artist(leg)\n",
    "\n",
    "ax.set_aspect(1.0)"
   ]
  },
  {
   "cell_type": "code",
   "execution_count": 139,
   "metadata": {},
   "outputs": [],
   "source": [
    "fig, ani = animate_planar_quad(ts, states_filt[:,0], states_filt[:,2], states_filt[:,4], fig=fig)"
   ]
  },
  {
   "cell_type": "code",
   "execution_count": 133,
   "metadata": {},
   "outputs": [],
   "source": [
    "fig, ani = animate_multi_planar_quad(ts, np.array([states_filt[:,0], states_filt_ws[:,0]]), np.array([states_filt[:,2], states_filt_ws[:,2]]), np.array([states_filt[:,4], states_filt_ws[:,4]]), fig=fig, alphas=[0.5, 1], colors=[pal[1], pal[2]])"
   ]
  },
  {
   "cell_type": "code",
   "execution_count": 134,
   "metadata": {},
   "outputs": [],
   "source": [
    "ani.save(\"quad_2d/cbf_2.mp4\")"
   ]
  }
 ],
 "metadata": {
  "interpreter": {
   "hash": "dd18f8e864d9e4797648b1faf96fda588ea380f7d87c56edba86c66e29d094cc"
  },
  "kernelspec": {
   "display_name": "Python 3.8.12 ('cbf_hjr')",
   "language": "python",
   "name": "python3"
  },
  "language_info": {
   "codemirror_mode": {
    "name": "ipython",
    "version": 3
   },
   "file_extension": ".py",
   "mimetype": "text/x-python",
   "name": "python",
   "nbconvert_exporter": "python",
   "pygments_lexer": "ipython3",
   "version": "3.8.12"
  },
  "orig_nbformat": 4
 },
 "nbformat": 4,
 "nbformat_minor": 2
}
